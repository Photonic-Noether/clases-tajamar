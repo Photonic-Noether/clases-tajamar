{
 "cells": [
  {
   "cell_type": "markdown",
   "id": "52426421-30fa-46b4-b363-8c7b54312a38",
   "metadata": {},
   "source": [
    "# Control de flujo - Bucles\n",
    "\n",
    "Los bucles son **bloques que iteran (repiten instrucciones)** con respecto a una variable que puede *recorrerse (iterable)*.\n",
    "\n",
    "Hay *2 formas* de definir bucles, mediante la keyword **FOR** y mediante la keyword **WHILE**"
   ]
  },
  {
   "cell_type": "markdown",
   "id": "a5383a56-2af9-4095-9033-4638a609d204",
   "metadata": {},
   "source": [
    "## Bucles *while*\n",
    "\n",
    "Un bucle `while` (hasta) ejecutará el bloque *hasta que* se le den instrucciones de salir del bucle.\n",
    "\n",
    "La sintaxis es:\n",
    "\n",
    "```\n",
    "while <condicion>:\n",
    "  <bloque>\n",
    "```\n",
    "\n",
    "```python\n",
    "while on_off is True:\n",
    "  print(\"Estoy encendido\")\n",
    "```"
   ]
  },
  {
   "cell_type": "code",
   "execution_count": null,
   "id": "55e2e547-7209-448b-9ed3-826797a3e95d",
   "metadata": {},
   "outputs": [],
   "source": [
    "numero = 0\n",
    "\n",
    "while numero <= 10:\n",
    "  numero = numero + 1\n",
    "  print(numero)"
   ]
  },
  {
   "cell_type": "markdown",
   "id": "eff85682-bda6-4819-afb2-fd73fc1f2284",
   "metadata": {},
   "source": [
    "Los bucles `while` *no son muy usados*, ya que un bucle `for` permite cubrir la mayoria de los casos y su iteracion es limitada (no requiere de una condición de parada), ademas, no son tan eficientes.\n",
    "\n",
    "Estos bucles se suelen usar cuando el numero de iteraciones no es bien conocido, o bien se requiere de una iteracion desconocida."
   ]
  },
  {
   "cell_type": "markdown",
   "id": "92f0f92c-97b6-41ce-98b3-cff4af71b105",
   "metadata": {},
   "source": [
    "## Bucles *for*\n",
    "\n",
    "Un bucle `for` (para) ejecutará el bloque *para unos elementos* definidos en el mismo objeto a iterar (iterable)\n",
    "\n",
    "La sintaxis es:\n",
    "\n",
    "```\n",
    "for <elemento> in <iterable>:\n",
    "  <bloque>\n",
    "```\n",
    "\n",
    "```python\n",
    "for on_off in todos_los_on_off:\n",
    "  print(on_off)\n",
    "```"
   ]
  },
  {
   "cell_type": "code",
   "execution_count": null,
   "id": "b3bcac15-655f-4c6e-b42c-14650a2962b3",
   "metadata": {},
   "outputs": [],
   "source": [
    "numeros = [1, 2, 3, 4, 5, 6, 7, 8, 9, 10]\n",
    "\n",
    "for numero in numeros:\n",
    "  print(numero)"
   ]
  },
  {
   "cell_type": "markdown",
   "id": "b44463a8-2f04-443a-b61e-c50cae60e916",
   "metadata": {},
   "source": [
    "Los bucles pueden *anidarse* entre ellos, y cada nivel es una dimensión."
   ]
  },
  {
   "cell_type": "code",
   "execution_count": null,
   "id": "53396acb-466f-4895-ae5b-00d2ef913651",
   "metadata": {},
   "outputs": [],
   "source": [
    "notas_alumnos = ([3, 6, 5, 2], [7, 6, 7.6, 4.5], [3, 10, 9.8, 7.1])\n",
    "\n",
    "media_notas_cada_alumno = []  # Aqui vamos a guardar las notas medias de cada alumno\n",
    "media_total_notas = 0  # Aqui se va a guardar la media de las medias\n",
    "\n",
    "for notas in notas_alumnos:\n",
    "  print(f\"Estas son las notas: {notas}\")\n",
    "  media_de_alumno = 0  # Y ahora se va a hacer un bucle para esas notas\n",
    "\n",
    "  for notas_de_alumno in notas:\n",
    "    media_de_alumno += notas_de_alumno / 4\n",
    "\n",
    "  print(f\"Y esta es la media del alumno: {media_de_alumno}\")\n",
    "  media_notas_cada_alumno.append(media_de_alumno)  # Guardamos esa media y se continua iterando\n",
    "\n",
    "for media_notas in media_notas_cada_alumno:  # Por ultimo, se calcula la media de las medias\n",
    "  media_total_notas += media_notas / 4\n",
    "\n",
    "print(f\"La media de las medias de cada alumno es: {media_notas_cada_alumno} ---> {media_total_notas}\")"
   ]
  },
  {
   "cell_type": "markdown",
   "id": "4c629f0b-7293-47b6-a7ce-48012f3c39b6",
   "metadata": {},
   "source": [
    "## Ejercicio\n",
    "\n",
    "Cambiar todos los strings almacenados para que no tengan mayusculas\n",
    "\n",
    "*Esto se suele utilizar mucho en desarrollo para estandarizar cosas como usuarios, tecnologias, direcciones, ...*"
   ]
  },
  {
   "cell_type": "code",
   "execution_count": null,
   "id": "07f7e9b7-f302-47a9-a4c1-df48832bd851",
   "metadata": {},
   "outputs": [],
   "source": [
    "var = [\"john\", \"DOE\", \"sTaRlEtTe\", \"TesT\"]"
   ]
  },
  {
   "cell_type": "markdown",
   "id": "30ddf6e7-654f-479f-8b91-24d5dc91520a",
   "metadata": {},
   "source": [
    "# Control de flujo - Condicionales\n",
    "\n",
    "Las condiciones son **bloques que filtran (dividen en opciones el flujo de código)** con respecto a una condición que puede *demostrarse (evalua a True o False)*.\n",
    "\n",
    "La forma de definir un bloque condicional es con la keyword **IF**, y pueden extenderse con las keywords **ELIF** y **ELSE**"
   ]
  },
  {
   "cell_type": "code",
   "execution_count": null,
   "id": "aa6e84ed-e542-4ba1-a4ef-7ccc7a2c412f",
   "metadata": {},
   "outputs": [],
   "source": [
    "animal = \"perro\"\n",
    "\n",
    "if animal == \"perro\":\n",
    "  print(\"guau guau!\")"
   ]
  },
  {
   "cell_type": "markdown",
   "id": "54cbd086-cae5-454d-9b5f-2a2bebb33227",
   "metadata": {},
   "source": [
    "## Bloques *if/elif/else*\n",
    "\n",
    "Los bloques condicionales empiezan con `if` (si), que definen una condicion. Si no se cumple, se pueden definir otras opciones con `elif` (si no, entonces si). Y por último, se puede definir una condicion general para el caso en que no se cumpla ningún `if` o `elif` con `else` (si no), aqui no se define una condición porque se cumplirá siempre que no se cumplan las anteriores.\n",
    "\n",
    "La sintaxis es:\n",
    "\n",
    "```\n",
    "if <condicion>:\n",
    "  <bloque>\n",
    "elif <condicion>:\n",
    "  <bloque>\n",
    "...\n",
    "else:\n",
    "  <bloque>\n",
    "```\n",
    "\n",
    "```python\n",
    "if edad_persona >= 18:\n",
    "  print(\"Esta persona es mayor de edad\")\n",
    "elif edad_persona < 18 and edad_persona > 0:\n",
    "  print(\"Esta persona es menor de edad\")\n",
    "else:\n",
    "  print(\"Hay un error con la edad de esta persona\")\n",
    "```"
   ]
  },
  {
   "cell_type": "code",
   "execution_count": null,
   "id": "f85fe047-bb9c-45fe-a345-5806647d3b41",
   "metadata": {},
   "outputs": [],
   "source": [
    "color_semaforo = \"verde\"\n",
    "\n",
    "if color_semaforo == \"verde\":\n",
    "  print(\"El semaforo esta verde, puedes pasar\")\n",
    "elif color_semaforo == \"amarillo\":\n",
    "  print(\"El semaforo esta amarillo, acelera!\")\n",
    "elif color_semaforo == \"rojo\":\n",
    "  print(\"El semaforo esta rojo, debes parar\")\n",
    "else:\n",
    "  print(\"Este semaforo es muy raro, el color no es correcto\")"
   ]
  },
  {
   "cell_type": "markdown",
   "id": "c914981f-997a-4328-80f2-e32bb1774d70",
   "metadata": {},
   "source": [
    "### Condicionales anidados\n",
    "\n",
    "Los condicionales tambien se puede anidar y/o combinar con bucles, permitiendo un control del flujo del programa"
   ]
  },
  {
   "cell_type": "code",
   "execution_count": null,
   "id": "385cd13b-606d-4520-a8cb-9b6970418808",
   "metadata": {},
   "outputs": [],
   "source": [
    "salario = 120000\n",
    "\n",
    "if salario > 0:  # Si se tiene un salario...\n",
    "  if salario < 50000:  # ... y el salario es normalito\n",
    "    print(\"Tienes un salario normalito\")\n",
    "  else:\n",
    "    print(\"Tienes un buen salario!\")  # ... y el salario NO es normalito\n",
    "else:\n",
    "  print(\"No tienes trabajo!\")  # No hay un salario"
   ]
  },
  {
   "cell_type": "markdown",
   "id": "ad0b1754-7b08-4115-adc8-0b149b19136e",
   "metadata": {},
   "source": [
    "# Ejercicios de refuerzo"
   ]
  },
  {
   "cell_type": "markdown",
   "id": "f18a97aa-b748-4b22-af30-052aa43ebc4b",
   "metadata": {},
   "source": [
    "### Contador\n",
    "\n",
    "Crear un contador que vaya sumando numeros fijos\n",
    "\n",
    "*Este tipo de contadores se utilizan mucho en bases de datos, colas, ids de varios tipos, ...*"
   ]
  },
  {
   "cell_type": "code",
   "execution_count": null,
   "id": "43497eb7-6283-413e-a52a-484b94f06edc",
   "metadata": {},
   "outputs": [],
   "source": []
  },
  {
   "cell_type": "markdown",
   "id": "167d850c-926c-4859-9d7e-ab7afcd6f4f6",
   "metadata": {},
   "source": [
    "## Validador de edad\n",
    "\n",
    "Un diccionario que representa una persona, validar si es mayor de edad\n",
    "\n",
    "*Casi toda la informacion que se manda y recibe de la web es un diccionario, es importante saber validarla*"
   ]
  },
  {
   "cell_type": "code",
   "execution_count": null,
   "id": "41a35133-b9a1-457d-8476-c63a82e381bf",
   "metadata": {},
   "outputs": [],
   "source": []
  },
  {
   "cell_type": "markdown",
   "id": "39b79495-ec58-4033-b068-04da131823a8",
   "metadata": {},
   "source": [
    "## ¿Divisible por 3 o 5?\n",
    "\n",
    "Comprobar si un numero es divisible por 3 o 5"
   ]
  },
  {
   "cell_type": "code",
   "execution_count": null,
   "id": "58820879-aea8-4387-9af3-d4edec77a296",
   "metadata": {},
   "outputs": [],
   "source": []
  },
  {
   "cell_type": "markdown",
   "id": "6626b974-5f54-4652-87a9-f9370b383a2c",
   "metadata": {},
   "source": [
    "## Ejercicios de los alumnos"
   ]
  },
  {
   "cell_type": "code",
   "execution_count": null,
   "id": "68113c76-0034-45da-87f2-9af512113b06",
   "metadata": {},
   "outputs": [],
   "source": [
    "# Comprobar si un numero es par o impar\n",
    "var = 2\n",
    "\n",
    "\n",
    "\n",
    "print(resultado)"
   ]
  },
  {
   "cell_type": "code",
   "execution_count": null,
   "id": "056159d4-27a0-43fe-86c8-31c7b82375b1",
   "metadata": {},
   "outputs": [],
   "source": [
    "# Crear tablas de multiplicar automaticas\n",
    "numero_tabla = 1\n",
    "\n",
    "\n",
    "\n",
    "print(resultado)"
   ]
  },
  {
   "cell_type": "code",
   "execution_count": null,
   "id": "fb1133b8-0197-4bcd-9f03-64822c39f8fa",
   "metadata": {},
   "outputs": [],
   "source": [
    "# Sumar conjunto de numeros y calcular media\n",
    "var = [3, 6, 8, 4, 1, 10, 2, -4]\n",
    "\n",
    "\n",
    "\n",
    "print(resultado)"
   ]
  },
  {
   "cell_type": "code",
   "execution_count": null,
   "id": "1d254778-6c5a-4fae-88dc-a8e06e762527",
   "metadata": {},
   "outputs": [],
   "source": [
    "# Juntar dos secuencias en un diccionario\n",
    "# > Pista: usar enumerate()\n",
    "claves = [1, 2, 3, 4, 5]\n",
    "valores = [\"Juan\", \"Ana\", \"Raquel\", \"Antonio\", \"Belen\"]\n",
    "\n",
    "\n",
    "\n",
    "print(resultado)"
   ]
  },
  {
   "cell_type": "code",
   "execution_count": null,
   "id": "580bffaa-a62f-4f46-9774-3cf72b45929b",
   "metadata": {},
   "outputs": [],
   "source": [
    "# Comprobar si un numero es primo o no\n",
    "numero = 6\n",
    "\n",
    "\n",
    "\n",
    "print(resultado)"
   ]
  },
  {
   "cell_type": "markdown",
   "id": "f3c9813a-5599-4fe4-8f83-823cab2d14c3",
   "metadata": {},
   "source": [
    "# Otros keywords y funciones\n",
    "\n",
    "and, or, not, del, in, pass, continue, break, all(), any(), enumerate(), sorted(), reversed(), zip(), isinstance()"
   ]
  },
  {
   "cell_type": "code",
   "execution_count": null,
   "id": "8747cea0-6742-44d8-b656-26a6e5d6758c",
   "metadata": {},
   "outputs": [],
   "source": []
  }
 ],
 "metadata": {
  "kernelspec": {
   "display_name": "Python 3 (ipykernel)",
   "language": "python",
   "name": "python3"
  },
  "language_info": {
   "codemirror_mode": {
    "name": "ipython",
    "version": 3
   },
   "file_extension": ".py",
   "mimetype": "text/x-python",
   "name": "python",
   "nbconvert_exporter": "python",
   "pygments_lexer": "ipython3",
   "version": "3.12.1"
  }
 },
 "nbformat": 4,
 "nbformat_minor": 5
}
