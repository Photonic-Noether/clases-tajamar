{
 "cells": [
  {
   "cell_type": "markdown",
   "id": "afeb38a2-6320-4271-9160-cb71e25230ae",
   "metadata": {},
   "source": [
    "## Ejercicio 1\n",
    "\n",
    "Haz un **bucle** para mostrar los cuadrados de los numeros entre 1 y 10"
   ]
  },
  {
   "cell_type": "code",
   "execution_count": null,
   "id": "b2f2c152-87e1-463a-a059-0dec9bf35bd5",
   "metadata": {},
   "outputs": [],
   "source": []
  },
  {
   "cell_type": "markdown",
   "id": "a3ae8289-4e46-4bd4-a808-0e1f0137de47",
   "metadata": {},
   "source": [
    "## Ejercicio 2\n",
    "\n",
    "Haz una **función** para separar una frase en una **lista de palabras**"
   ]
  },
  {
   "cell_type": "code",
   "execution_count": null,
   "id": "d9a99ccc-7a79-41cb-b509-7afc4f82dae1",
   "metadata": {},
   "outputs": [],
   "source": []
  },
  {
   "cell_type": "markdown",
   "id": "b36eec37-f559-4772-8295-441525ab2ac1",
   "metadata": {},
   "source": [
    "## Ejercicio 3\n",
    "\n",
    "Haz una **clase** que se construya con un número entero, y guarde una **lista** de los **siguientes 10 números** enteros a partir del número proporcionado. Además, hacer un **método** para **devolver** esa lista, y otro **método** para identificar **por posición** un número de esa lista"
   ]
  },
  {
   "cell_type": "code",
   "execution_count": null,
   "id": "5c09b9b6-d1cb-4804-94d9-167ac122dfd5",
   "metadata": {},
   "outputs": [],
   "source": []
  }
 ],
 "metadata": {
  "kernelspec": {
   "display_name": "Python 3 (ipykernel)",
   "language": "python",
   "name": "python3"
  },
  "language_info": {
   "codemirror_mode": {
    "name": "ipython",
    "version": 3
   },
   "file_extension": ".py",
   "mimetype": "text/x-python",
   "name": "python",
   "nbconvert_exporter": "python",
   "pygments_lexer": "ipython3",
   "version": "3.12.1"
  }
 },
 "nbformat": 4,
 "nbformat_minor": 5
}
