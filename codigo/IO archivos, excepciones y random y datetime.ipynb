{
 "cells": [
  {
   "cell_type": "markdown",
   "id": "2ec5f207-854b-4820-9044-0e01d22438cc",
   "metadata": {},
   "source": [
    "# I/O en archivos: Open\n",
    "\n",
    "Python tiene un tipo de dato **archivo**, que suele emparejarse con la función `open()`\n",
    "\n",
    "```python\n",
    "open(<archivo>, <modo>)\n",
    "```\n",
    "\n",
    "Se puede especificar si el archivo debe manejarse como *binario* (`b`) o como *texto* (`t`).\n",
    "\n",
    "```python\n",
    "open(\"ejemplo.bin\", \"wb\")  # Abre ese archivo binario .bin y lo prepara para escritura (modo w)\n",
    "```\n",
    "\n",
    "Y se tienen los modos *lectura* (`r`), *escritura* (`w`), *escritura contigua* (`a`) y *creación* (`x`).\n",
    "Además, todo archivo, una vez se ha hecho lo que se quería hacer, debe **cerrarse** con el método `.close()`."
   ]
  },
  {
   "cell_type": "code",
   "execution_count": null,
   "id": "652aac55-9762-4198-8725-7158218d0d62",
   "metadata": {},
   "outputs": [],
   "source": [
    "archivo = open(\"test.txt\", \"w\")  # Modo de escritura\n",
    "archivo.write(\"Hola mundo!\")\n",
    "archivo.close() "
   ]
  },
  {
   "cell_type": "code",
   "execution_count": null,
   "id": "b9f98970-61c3-4e55-9e76-f93dcb3680ab",
   "metadata": {},
   "outputs": [],
   "source": [
    "archivo = open(\"test.txt\")  # Por defecto el modo es \"rt\", es decir, lectura de texto\n",
    "info = archivo.read()\n",
    "print(info)\n",
    "archivo.close() "
   ]
  },
  {
   "cell_type": "code",
   "execution_count": null,
   "id": "44c7198b-a7fc-41fd-a441-962d47d9d5f7",
   "metadata": {},
   "outputs": [],
   "source": [
    "Estos son los principales métodos de los tipos de datos archivo.\n",
    "\n",
    ".close() ---> Cierra el archivo, importante hacerlo cada vez que se termine de usar\n"
   ]
  }
 ],
 "metadata": {
  "kernelspec": {
   "display_name": "Python 3 (ipykernel)",
   "language": "python",
   "name": "python3"
  },
  "language_info": {
   "codemirror_mode": {
    "name": "ipython",
    "version": 3
   },
   "file_extension": ".py",
   "mimetype": "text/x-python",
   "name": "python",
   "nbconvert_exporter": "python",
   "pygments_lexer": "ipython3",
   "version": "3.12.1"
  }
 },
 "nbformat": 4,
 "nbformat_minor": 5
}
