{
 "cells": [
  {
   "cell_type": "markdown",
   "id": "fb59d9e3-d0ab-44ce-b715-2606f9e861ea",
   "metadata": {},
   "source": [
    "# Métodos y propiedades avanzadas\n",
    "\n",
    "## Atributos y métodos privados y protegidos\n",
    "\n",
    "Los atributos o métodos se pueden hacer **privados** en Python precediendolos de `_`. Un atributo privado *no debería utilizarse por otros programadores* a menos que se sepa bien lo que se esta haciendo, no aparecerán en la documentación ni en los tooltips, y en general serán invisibles para que nos sean utilizados. **Sin embargo, nada impide que se utilicen, en Python se sigue un principio de cautela, permitiendo su uso si el desarrollador asi lo cree conveniente**. Si este comportamiento no es suficiente, también se pueden **proteger**. Al contrario que los atributos y métodos privados, aquellos que son protegidos **no son accesibles, aunque esten en el namespace**."
   ]
  },
  {
   "cell_type": "code",
   "execution_count": null,
   "id": "6c3fe002-deb9-4097-a57e-d25b4a341ad1",
   "metadata": {},
   "outputs": [],
   "source": [
    "_lista_ids_disponibles = [4, 5, 6, 7, 8]\n",
    "\n",
    "class Persona:\n",
    "    def __init__(self, nombre):\n",
    "        self._id = _lista_ids_disponibles.pop(0)\n",
    "        self.nombre = nombre\n",
    "\n",
    "inst = Persona(\"Joaquin\")\n",
    "inst.__active = False\n",
    "atributos_objeto = [atributo for atributo dir(inst) if not atributo.endswith(\"__\")]  # Inspeccion a la fuerza de los atributos del objeto\n",
    "print(atributos_objeto)"
   ]
  },
  {
   "cell_type": "markdown",
   "id": "49d0c3e9-a529-4671-835c-95cdf18eae62",
   "metadata": {},
   "source": [
    "## Métodos de clase y métodos estáticos\n",
    "\n",
    "Los métodos usuales son **métodos de instancia**, pueden acceder a la *instancia* con *`self`*. Sin embargo, también existen los **métodos de clase y métodos estáticos**. Los métodos de clase **no acceden a la instancia, sino a la clase en sí**, mediante *`cls`*. Estos métodos no requieren de instáncia, pueden utilizarse directamente en la clase, y modifican directamente la clase en vez de objeto a objeto. Por último, los métodos estáticos **no acceden ni a la instancia ni a la clase**, sino que son más bien como funciones."
   ]
  },
  {
   "cell_type": "code",
   "execution_count": 9,
   "id": "e30ed4dc-b285-49d1-9827-7a2f119dca65",
   "metadata": {},
   "outputs": [
    {
     "name": "stdout",
     "output_type": "stream",
     "text": [
      "Pizza(['mozzarella', 'tomats', 'jamon', 'piña'])\n"
     ]
    }
   ],
   "source": [
    "from math import PI\n",
    "\n",
    "class Pizza:\n",
    "    def __init__(self, radio: float | int, ingredientes: list[str]):\n",
    "        self.ingredientes = ingredientes\n",
    "        self.masa = self.calcular_masa(radio)\n",
    "\n",
    "    def __str__(self) -> str:\n",
    "        return f'Pizza de tamaño {self.radio} ({self.ingredientes})'\n",
    "\n",
    "    @staticmethod\n",
    "    def calcular_masa(radio) -> float:\n",
    "        return PI * radio ** 2\n",
    "\n",
    "    @classmethod\n",
    "    def hawaianna(cls) -> Pizza:\n",
    "        return cls(['mozzarella', 'tomate', 'jamon', \"piña\"])\n",
    "\n",
    "    @classmethod\n",
    "    def setas(cls) -> Pizza:\n",
    "        return cls(['mozzarella', 'tomate', 'setas', \"huevo\"])\n",
    "    \n",
    "\n",
    "a = Pizza.hawaianna()\n",
    "print(a)"
   ]
  },
  {
   "cell_type": "code",
   "execution_count": null,
   "id": "eb8df4e2-1f33-4fdc-972c-28b9147ec89e",
   "metadata": {},
   "outputs": [],
   "source": [
    "class Fecha:\n",
    "    def __init__(self, dia: int = 0, mes: int = 0, año: int = 0):\n",
    "        self.dia = dia\n",
    "        self.mes = mes\n",
    "        self.año = año\n",
    "\n",
    "    @classmethod\n",
    "    def string_a_fecha(clase, fecha_string: str) -> Fecha:\n",
    "        dia, mes, año = map(int, fecha_string.split('-'))\n",
    "        fecha_parseada = clase(dia, mes, año)\n",
    "        return fecha_parseada\n",
    "\n",
    "    @staticmethod\n",
    "    def validar_fecha(fecha_string: str) -> bool:\n",
    "        dia, mes, año = map(int, fecha_string.split('-'))\n",
    "        return dia <= 31 and mes <= 12 and año <= 3999\n",
    "\n",
    "fecha_2 = Fecha(30, 5, 1996)\n",
    "fecha_2 = Date.string_a_fecha('11-09-2012')\n",
    "validez = Date.validar_fecha('61-09-2012')"
   ]
  },
  {
   "cell_type": "markdown",
   "id": "8da45c39-5bf8-4220-8638-45463d27c87b",
   "metadata": {},
   "source": [
    "## Propiedades y accesores, mutadores y eliminadores\n",
    "\n",
    "Hasta ahora los *atributos representaban datos (variables)* de un objeto, y los *métodos su comportamiento (funciones)*, sin embargo, hay otra forma de trabajar con orientación a objetos. "
   ]
  }
 ],
 "metadata": {
  "kernelspec": {
   "display_name": "Python 3 (ipykernel)",
   "language": "python",
   "name": "python3"
  },
  "language_info": {
   "codemirror_mode": {
    "name": "ipython",
    "version": 3
   },
   "file_extension": ".py",
   "mimetype": "text/x-python",
   "name": "python",
   "nbconvert_exporter": "python",
   "pygments_lexer": "ipython3",
   "version": "3.12.1"
  }
 },
 "nbformat": 4,
 "nbformat_minor": 5
}
